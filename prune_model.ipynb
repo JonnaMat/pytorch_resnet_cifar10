{
 "cells": [
  {
   "cell_type": "code",
   "execution_count": null,
   "metadata": {},
   "outputs": [],
   "source": [
    "import torch\n",
    "from resnet import resnet56\n",
    "from embedl.plumbing.torch.metrics.target import Target\n",
    "from embedl.torch.pruning.methods import UniformPruning\n",
    "from embedl.torch.viewer import view_model\n",
    "from embedl.torch.metrics.performances import Flops  \n",
    "from embedl.torch.metrics.measure_performance import measure_flops"
   ]
  },
  {
   "cell_type": "code",
   "execution_count": null,
   "metadata": {},
   "outputs": [],
   "source": [
    "model = resnet56()\n",
    "input_shape = [1,3,32,32]       \n",
    "base_flops = measure_flops(\n",
    "    model=model,\n",
    "    input_shape=input_shape\n",
    ")\n",
    "pruning_method = UniformPruning(\n",
    "    target=Target(Flops(), fraction=0.6),\n",
    "    step_size=1\n",
    ")\n",
    "pruning_steps = pruning_method.prune(model, input_shape)\n",
    "pruned_flops = measure_flops(\n",
    "    model=model,\n",
    "    input_shape=input_shape\n",
    ")\n",
    "print(pruned_flops/base_flops) # 0.5976937173922103\n",
    "# torch.save(model, 'resnet56_pruned/resnet56_uniform_60.th')"
   ]
  },
  {
   "cell_type": "code",
   "execution_count": null,
   "metadata": {},
   "outputs": [],
   "source": [
    "view_model(model,input_shape,compare_with=resnet56())"
   ]
  },
  {
   "cell_type": "code",
   "execution_count": null,
   "metadata": {},
   "outputs": [],
   "source": []
  }
 ],
 "metadata": {
  "kernelspec": {
   "display_name": "venv_embedl",
   "language": "python",
   "name": "python3"
  },
  "language_info": {
   "codemirror_mode": {
    "name": "ipython",
    "version": 3
   },
   "file_extension": ".py",
   "mimetype": "text/x-python",
   "name": "python",
   "nbconvert_exporter": "python",
   "pygments_lexer": "ipython3",
   "version": "3.10.6"
  },
  "orig_nbformat": 4
 },
 "nbformat": 4,
 "nbformat_minor": 2
}
