{
 "cells": [
  {
   "cell_type": "code",
   "execution_count": null,
   "metadata": {},
   "outputs": [],
   "source": [
    "import torch\n",
    "from models import mobilenetv2, resnet56\n",
    "from embedl.plumbing.torch.metrics.target import Target\n",
    "from embedl.torch.pruning.methods import UniformPruning\n",
    "from embedl.torch.viewer import view_model\n",
    "from embedl.torch.metrics.performances import Flops  \n",
    "from embedl.torch.metrics.measure_performance import measure_flops"
   ]
  },
  {
   "cell_type": "code",
   "execution_count": null,
   "metadata": {},
   "outputs": [],
   "source": [
    "model = mobilenetv2()\n",
    "input_shape = [1,3,32,32]       \n",
    "base_flops = measure_flops(\n",
    "    model=model,\n",
    "    input_shape=input_shape\n",
    ")\n",
    "pruning_method = UniformPruning(\n",
    "    target=Target(Flops(), fraction=0.2),\n",
    "    step_size=2\n",
    ")\n",
    "pruning_steps = pruning_method.prune(model, input_shape)\n",
    "pruned_flops = measure_flops(\n",
    "    model=model,\n",
    "    input_shape=input_shape\n",
    ")\n",
    "print(pruned_flops/base_flops) # 0.1980394686585399\n",
    "# torch.save(model, 'pruned_models/mobilenetv2_uniform_20.th')"
   ]
  }
 ],
 "metadata": {
  "kernelspec": {
   "display_name": "venv_embedl",
   "language": "python",
   "name": "python3"
  },
  "language_info": {
   "codemirror_mode": {
    "name": "ipython",
    "version": 3
   },
   "file_extension": ".py",
   "mimetype": "text/x-python",
   "name": "python",
   "nbconvert_exporter": "python",
   "pygments_lexer": "ipython3",
   "version": "3.10.6"
  },
  "orig_nbformat": 4
 },
 "nbformat": 4,
 "nbformat_minor": 2
}
