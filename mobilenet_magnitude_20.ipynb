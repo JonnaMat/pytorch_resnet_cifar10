{
 "cells": [
  {
   "cell_type": "code",
   "execution_count": 16,
   "metadata": {},
   "outputs": [],
   "source": [
    "import torch\n",
    "from models import mobilenetv2, resnet56\n",
    "from embedl.torch.viewer import view_model\n",
    "from models import _weights_init\n",
    "from embedl.torch.metrics.measure_performance import measure_flops\n",
    "\n",
    "\n",
    "mobilenetv2_basemodel = mobilenetv2()\n",
    "mobilenetv2_basemodel.apply(_weights_init)\n",
    "mobilenetv2_basemodel.cuda()\n",
    "# one-shot magnitude pruning\n",
    "mobilenetv2_magnitude_20 = torch.load(\n",
    "    \"/home/jonna/pytorch_resnet_cifar10/pruned_models/mobilenetv2_magnitude_20.th\"\n",
    ")\n",
    "mobilenetv2_magnitude_20.apply(_weights_init)\n",
    "mobilenetv2_magnitude_20.cuda()\n",
    "\n",
    "# around 10% of channels left in the last layer\n",
    "mobilenetv2_magnitude_20_10left = torch.load(\n",
    "    \"/home/jonna/pytorch_resnet_cifar10/pruned_models/mobilenetv2_magnitude_20_10left.th\"\n",
    ")\n",
    "mobilenetv2_magnitude_20_10left.apply(_weights_init)\n",
    "mobilenetv2_magnitude_20_10left.cuda()\n",
    "\n",
    "input_shape = [1, 3, 32, 32]"
   ]
  },
  {
   "cell_type": "code",
   "execution_count": 19,
   "metadata": {},
   "outputs": [
    {
     "name": "stdout",
     "output_type": "stream",
     "text": [
      "0.1999645132889108\n",
      "0.1998513034276824\n"
     ]
    }
   ],
   "source": [
    "flops_basemodel = measure_flops(model=mobilenetv2_basemodel, input_shape=input_shape)\n",
    "\n",
    "flops_20 = measure_flops(model=mobilenetv2_magnitude_20, input_shape=input_shape)\n",
    "\n",
    "flops_20_10left = measure_flops(model=mobilenetv2_magnitude_20_10left, input_shape=input_shape)\n",
    "print(flops_20 / flops_basemodel)\n",
    "print(flops_20_10left / flops_basemodel)\n"
   ]
  },
  {
   "cell_type": "code",
   "execution_count": 21,
   "metadata": {},
   "outputs": [
    {
     "name": "stderr",
     "output_type": "stream",
     "text": [
      "Found nodes whose (<class 'embedl.plumbing.torch.viewer.viewer_configs.ViewerConfig'>,) uses the default <embedl.plumbing.torch.viewer.viewer_configs.DefaultViewerConfig object at 0x7feb469ddb70>: \n",
      "\n",
      "\n",
      "This may limit certain functionality. Extend the dict returned by Viewing.node_config_map() to extend support to these.\n"
     ]
    },
    {
     "name": "stdout",
     "output_type": "stream",
     "text": [
      "Args: {'model1': PosixPath('/tmp/tmp0ep9k7vo/exported_network.json'), 'model2': None, 'port': None, 'force': False}\n",
      "Creating symlink /tmp/embedl-viewer-7edm7gml/exported_network.json -> /tmp/tmp0ep9k7vo/exported_network.json\n",
      "Opening embedl-viewer in browser\n",
      "Serving /tmp/embedl-viewer-7edm7gml at port 8000\n",
      "\n"
     ]
    },
    {
     "name": "stderr",
     "output_type": "stream",
     "text": [
      "127.0.0.1 - - [08/May/2023 14:31:56] \"GET /exported_network.json HTTP/1.1\" 200 -\n"
     ]
    },
    {
     "ename": "KeyboardInterrupt",
     "evalue": "",
     "output_type": "error",
     "traceback": [
      "\u001b[0;31m---------------------------------------------------------------------------\u001b[0m",
      "\u001b[0;31mKeyboardInterrupt\u001b[0m                         Traceback (most recent call last)",
      "Cell \u001b[0;32mIn[21], line 1\u001b[0m\n\u001b[0;32m----> 1\u001b[0m view_model(torch\u001b[39m.\u001b[39;49mload(\u001b[39m'\u001b[39;49m\u001b[39m/home/jonna/pytorch_resnet_cifar10/pruned_models/mobilenetv2_magnitude_40.th\u001b[39;49m\u001b[39m'\u001b[39;49m))\n",
      "File \u001b[0;32m~/venv_embedl/lib/python3.10/site-packages/embedl/torch/viewer/__init__.py:78\u001b[0m, in \u001b[0;36mview_model\u001b[0;34m(model, input_shape, hardware_lookup_config, compare_with, include_latency_tables)\u001b[0m\n\u001b[1;32m     19\u001b[0m \u001b[39mdef\u001b[39;00m \u001b[39mview_model\u001b[39m(\n\u001b[1;32m     20\u001b[0m     model: Union[nn\u001b[39m.\u001b[39mModule, Callable],\n\u001b[1;32m     21\u001b[0m     input_shape: Optional[InputOrShape] \u001b[39m=\u001b[39m \u001b[39mNone\u001b[39;00m,\n\u001b[0;32m   (...)\u001b[0m\n\u001b[1;32m     24\u001b[0m     include_latency_tables: \u001b[39mbool\u001b[39m \u001b[39m=\u001b[39m \u001b[39mTrue\u001b[39;00m,\n\u001b[1;32m     25\u001b[0m ):\n\u001b[1;32m     26\u001b[0m \u001b[39m    \u001b[39m\u001b[39m\"\"\"\u001b[39;00m\n\u001b[1;32m     27\u001b[0m \u001b[39m    Visualize a model in the embedl-viewer.\u001b[39;00m\n\u001b[1;32m     28\u001b[0m \n\u001b[0;32m   (...)\u001b[0m\n\u001b[1;32m     75\u001b[0m \u001b[39m        is provided.\u001b[39;00m\n\u001b[1;32m     76\u001b[0m \u001b[39m    \"\"\"\u001b[39;00m\n\u001b[0;32m---> 78\u001b[0m     Viewing\u001b[39m.\u001b[39;49mview(\n\u001b[1;32m     79\u001b[0m         model,\n\u001b[1;32m     80\u001b[0m         input_shape\u001b[39m=\u001b[39;49minput_shape,\n\u001b[1;32m     81\u001b[0m         latency\u001b[39m=\u001b[39;49mLUTLatency\u001b[39m.\u001b[39;49mfrom_hardware_lookup_config(hardware_lookup_config)\n\u001b[1;32m     82\u001b[0m         \u001b[39mif\u001b[39;49;00m hardware_lookup_config\n\u001b[1;32m     83\u001b[0m         \u001b[39melse\u001b[39;49;00m \u001b[39mNone\u001b[39;49;00m,\n\u001b[1;32m     84\u001b[0m         compare_with\u001b[39m=\u001b[39;49mcompare_with,\n\u001b[1;32m     85\u001b[0m         include_latency_tables\u001b[39m=\u001b[39;49minclude_latency_tables,\n\u001b[1;32m     86\u001b[0m     )\n",
      "File \u001b[0;32m~/venv_embedl/lib/python3.10/site-packages/embedl/plumbing/torch/viewer/viewing.py:283\u001b[0m, in \u001b[0;36mViewing.view\u001b[0;34m(cls, module, input_shape, latency, compare_with, include_latency_tables)\u001b[0m\n\u001b[1;32m    281\u001b[0m \u001b[39melse\u001b[39;00m:\n\u001b[1;32m    282\u001b[0m     comparison_dict \u001b[39m=\u001b[39m \u001b[39mNone\u001b[39;00m\n\u001b[0;32m--> 283\u001b[0m open_in_embedl_viewer(embedl_viewer_dict, comparison_dict)\n",
      "File \u001b[0;32m~/venv_embedl/lib/python3.10/site-packages/embedl/plumbing/torch/viewer/export.py:116\u001b[0m, in \u001b[0;36mopen_in_embedl_viewer\u001b[0;34m(embedl_viewer_graph, comparison_data)\u001b[0m\n\u001b[1;32m    106\u001b[0m     subprocess\u001b[39m.\u001b[39mrun(\n\u001b[1;32m    107\u001b[0m         (\n\u001b[1;32m    108\u001b[0m             \u001b[39m'\u001b[39m\u001b[39membedl-viewer\u001b[39m\u001b[39m'\u001b[39m,\n\u001b[0;32m   (...)\u001b[0m\n\u001b[1;32m    113\u001b[0m         check\u001b[39m=\u001b[39m\u001b[39mTrue\u001b[39;00m,\n\u001b[1;32m    114\u001b[0m     )\n\u001b[1;32m    115\u001b[0m \u001b[39melse\u001b[39;00m:\n\u001b[0;32m--> 116\u001b[0m     subprocess\u001b[39m.\u001b[39;49mrun((\u001b[39m'\u001b[39;49m\u001b[39membedl-viewer\u001b[39;49m\u001b[39m'\u001b[39;49m, \u001b[39mstr\u001b[39;49m(json_path)), check\u001b[39m=\u001b[39;49m\u001b[39mTrue\u001b[39;49;00m)\n",
      "File \u001b[0;32m/usr/lib/python3.10/subprocess.py:503\u001b[0m, in \u001b[0;36mrun\u001b[0;34m(input, capture_output, timeout, check, *popenargs, **kwargs)\u001b[0m\n\u001b[1;32m    501\u001b[0m \u001b[39mwith\u001b[39;00m Popen(\u001b[39m*\u001b[39mpopenargs, \u001b[39m*\u001b[39m\u001b[39m*\u001b[39mkwargs) \u001b[39mas\u001b[39;00m process:\n\u001b[1;32m    502\u001b[0m     \u001b[39mtry\u001b[39;00m:\n\u001b[0;32m--> 503\u001b[0m         stdout, stderr \u001b[39m=\u001b[39m process\u001b[39m.\u001b[39;49mcommunicate(\u001b[39minput\u001b[39;49m, timeout\u001b[39m=\u001b[39;49mtimeout)\n\u001b[1;32m    504\u001b[0m     \u001b[39mexcept\u001b[39;00m TimeoutExpired \u001b[39mas\u001b[39;00m exc:\n\u001b[1;32m    505\u001b[0m         process\u001b[39m.\u001b[39mkill()\n",
      "File \u001b[0;32m/usr/lib/python3.10/subprocess.py:1144\u001b[0m, in \u001b[0;36mPopen.communicate\u001b[0;34m(self, input, timeout)\u001b[0m\n\u001b[1;32m   1142\u001b[0m         stderr \u001b[39m=\u001b[39m \u001b[39mself\u001b[39m\u001b[39m.\u001b[39mstderr\u001b[39m.\u001b[39mread()\n\u001b[1;32m   1143\u001b[0m         \u001b[39mself\u001b[39m\u001b[39m.\u001b[39mstderr\u001b[39m.\u001b[39mclose()\n\u001b[0;32m-> 1144\u001b[0m     \u001b[39mself\u001b[39;49m\u001b[39m.\u001b[39;49mwait()\n\u001b[1;32m   1145\u001b[0m \u001b[39melse\u001b[39;00m:\n\u001b[1;32m   1146\u001b[0m     \u001b[39mif\u001b[39;00m timeout \u001b[39mis\u001b[39;00m \u001b[39mnot\u001b[39;00m \u001b[39mNone\u001b[39;00m:\n",
      "File \u001b[0;32m/usr/lib/python3.10/subprocess.py:1207\u001b[0m, in \u001b[0;36mPopen.wait\u001b[0;34m(self, timeout)\u001b[0m\n\u001b[1;32m   1205\u001b[0m     endtime \u001b[39m=\u001b[39m _time() \u001b[39m+\u001b[39m timeout\n\u001b[1;32m   1206\u001b[0m \u001b[39mtry\u001b[39;00m:\n\u001b[0;32m-> 1207\u001b[0m     \u001b[39mreturn\u001b[39;00m \u001b[39mself\u001b[39;49m\u001b[39m.\u001b[39;49m_wait(timeout\u001b[39m=\u001b[39;49mtimeout)\n\u001b[1;32m   1208\u001b[0m \u001b[39mexcept\u001b[39;00m \u001b[39mKeyboardInterrupt\u001b[39;00m:\n\u001b[1;32m   1209\u001b[0m     \u001b[39m# https://bugs.python.org/issue25942\u001b[39;00m\n\u001b[1;32m   1210\u001b[0m     \u001b[39m# The first keyboard interrupt waits briefly for the child to\u001b[39;00m\n\u001b[1;32m   1211\u001b[0m     \u001b[39m# exit under the common assumption that it also received the ^C\u001b[39;00m\n\u001b[1;32m   1212\u001b[0m     \u001b[39m# generated SIGINT and will exit rapidly.\u001b[39;00m\n\u001b[1;32m   1213\u001b[0m     \u001b[39mif\u001b[39;00m timeout \u001b[39mis\u001b[39;00m \u001b[39mnot\u001b[39;00m \u001b[39mNone\u001b[39;00m:\n",
      "File \u001b[0;32m/usr/lib/python3.10/subprocess.py:1941\u001b[0m, in \u001b[0;36mPopen._wait\u001b[0;34m(self, timeout)\u001b[0m\n\u001b[1;32m   1939\u001b[0m \u001b[39mif\u001b[39;00m \u001b[39mself\u001b[39m\u001b[39m.\u001b[39mreturncode \u001b[39mis\u001b[39;00m \u001b[39mnot\u001b[39;00m \u001b[39mNone\u001b[39;00m:\n\u001b[1;32m   1940\u001b[0m     \u001b[39mbreak\u001b[39;00m  \u001b[39m# Another thread waited.\u001b[39;00m\n\u001b[0;32m-> 1941\u001b[0m (pid, sts) \u001b[39m=\u001b[39m \u001b[39mself\u001b[39;49m\u001b[39m.\u001b[39;49m_try_wait(\u001b[39m0\u001b[39;49m)\n\u001b[1;32m   1942\u001b[0m \u001b[39m# Check the pid and loop as waitpid has been known to\u001b[39;00m\n\u001b[1;32m   1943\u001b[0m \u001b[39m# return 0 even without WNOHANG in odd situations.\u001b[39;00m\n\u001b[1;32m   1944\u001b[0m \u001b[39m# http://bugs.python.org/issue14396.\u001b[39;00m\n\u001b[1;32m   1945\u001b[0m \u001b[39mif\u001b[39;00m pid \u001b[39m==\u001b[39m \u001b[39mself\u001b[39m\u001b[39m.\u001b[39mpid:\n",
      "File \u001b[0;32m/usr/lib/python3.10/subprocess.py:1899\u001b[0m, in \u001b[0;36mPopen._try_wait\u001b[0;34m(self, wait_flags)\u001b[0m\n\u001b[1;32m   1897\u001b[0m \u001b[39m\u001b[39m\u001b[39m\"\"\"All callers to this function MUST hold self._waitpid_lock.\"\"\"\u001b[39;00m\n\u001b[1;32m   1898\u001b[0m \u001b[39mtry\u001b[39;00m:\n\u001b[0;32m-> 1899\u001b[0m     (pid, sts) \u001b[39m=\u001b[39m os\u001b[39m.\u001b[39;49mwaitpid(\u001b[39mself\u001b[39;49m\u001b[39m.\u001b[39;49mpid, wait_flags)\n\u001b[1;32m   1900\u001b[0m \u001b[39mexcept\u001b[39;00m \u001b[39mChildProcessError\u001b[39;00m:\n\u001b[1;32m   1901\u001b[0m     \u001b[39m# This happens if SIGCLD is set to be ignored or waiting\u001b[39;00m\n\u001b[1;32m   1902\u001b[0m     \u001b[39m# for child processes has otherwise been disabled for our\u001b[39;00m\n\u001b[1;32m   1903\u001b[0m     \u001b[39m# process.  This child is dead, we can't get the status.\u001b[39;00m\n\u001b[1;32m   1904\u001b[0m     pid \u001b[39m=\u001b[39m \u001b[39mself\u001b[39m\u001b[39m.\u001b[39mpid\n",
      "\u001b[0;31mKeyboardInterrupt\u001b[0m: "
     ]
    }
   ],
   "source": [
    "view_model(torch.load('/home/jonna/pytorch_resnet_cifar10/pruned_models/mobilenetv2_magnitude_40.th'))"
   ]
  },
  {
   "cell_type": "code",
   "execution_count": 22,
   "metadata": {},
   "outputs": [
    {
     "data": {
      "text/plain": [
       "0.0875"
      ]
     },
     "execution_count": 22,
     "metadata": {},
     "output_type": "execute_result"
    }
   ],
   "source": [
    "28/320"
   ]
  },
  {
   "cell_type": "code",
   "execution_count": null,
   "metadata": {},
   "outputs": [],
   "source": [
    "with open('/home/jonna/pytorch_resnet_cifar10/pruned_models/pruningsteps_mobilenetv2_magnitude_20.th')"
   ]
  }
 ],
 "metadata": {
  "kernelspec": {
   "display_name": "venv_embedl",
   "language": "python",
   "name": "python3"
  },
  "language_info": {
   "codemirror_mode": {
    "name": "ipython",
    "version": 3
   },
   "file_extension": ".py",
   "mimetype": "text/x-python",
   "name": "python",
   "nbconvert_exporter": "python",
   "pygments_lexer": "ipython3",
   "version": "3.10.6"
  },
  "orig_nbformat": 4
 },
 "nbformat": 4,
 "nbformat_minor": 2
}
