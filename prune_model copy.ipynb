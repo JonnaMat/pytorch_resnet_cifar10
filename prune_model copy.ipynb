{
 "cells": [
  {
   "cell_type": "code",
   "execution_count": 1,
   "metadata": {},
   "outputs": [
    {
     "name": "stderr",
     "output_type": "stream",
     "text": [
      "/home/jonna/venv_embedl/lib/python3.10/site-packages/tqdm/auto.py:21: TqdmWarning: IProgress not found. Please update jupyter and ipywidgets. See https://ipywidgets.readthedocs.io/en/stable/user_install.html\n",
      "  from .autonotebook import tqdm as notebook_tqdm\n"
     ]
    }
   ],
   "source": [
    "import torch\n",
    "import pickle\n",
    "from models import mobilenetv2, resnet56\n",
    "from torchvision.models import resnet50\n",
    "from embedl.plumbing.torch.metrics.target import Target\n",
    "from embedl.torch.pruning.methods import UniformPruning\n",
    "from embedl.torch.viewer import view_model\n",
    "from embedl.torch.metrics.performances import Flops  \n",
    "from embedl.torch.metrics.measure_performance import measure_flops\n",
    "import torchvision.datasets as datasets\n",
    "from embedl.torch.pruning.methods import plot_pruning_profile \n",
    "import torchvision.transforms as transforms\n",
    "import torch.nn as nn\n",
    "from embedl.torch.metrics.performances import Flops\n",
    "from embedl.torch.pruning.methods import (\n",
    "    PruningMethod,\n",
    "    ChannelPruningTactic,\n",
    ")\n",
    "from embedl.plumbing.torch.metrics.scorers import ChannelPruningScorer, PruningBalancer\n",
    "from embedl.torch.metrics.importance_scores import WeightMagnitude\n",
    "from embedl.plumbing.torch.pruning.method import apply_pruning_steps\n",
    "\n",
    "normalize = transforms.Normalize(\n",
    "    mean=[0.4914, 0.4822, 0.4465], std=[0.247, 0.243, 0.261]\n",
    ")\n",
    "\n",
    "val_loader = torch.utils.data.DataLoader(\n",
    "    datasets.CIFAR10(\n",
    "        root=\"/home/jonna/data\",\n",
    "        train=False,\n",
    "        transform=transforms.Compose(\n",
    "            [\n",
    "                transforms.ToTensor(),\n",
    "                normalize,\n",
    "            ]\n",
    "        ),\n",
    "    ),\n",
    "    batch_size=128,\n",
    "    shuffle=False,\n",
    "    num_workers=2,\n",
    "    pin_memory=True,\n",
    ")\n",
    "\n",
    "def accuracy(output, target, topk=(1,)):\n",
    "    \"\"\"Computes the precision@k for the specified values of k\"\"\"\n",
    "    maxk = max(topk)\n",
    "    batch_size = target.size(0)\n",
    "\n",
    "    _, pred = output.topk(maxk, 1, True, True)\n",
    "    pred = pred.t()\n",
    "    correct = pred.eq(target.view(1, -1).expand_as(pred))\n",
    "\n",
    "    res = []\n",
    "    for k in topk:\n",
    "        correct_k = correct[:k].view(-1).float().sum(0)\n",
    "        res.append(correct_k.mul_(100.0 / batch_size))\n",
    "    return res\n",
    "\n",
    "\n",
    "def validate(val_loader, model, criterion):\n",
    "    \"\"\"\n",
    "    Run evaluation\n",
    "    \"\"\"\n",
    "\n",
    "    prec1 = 0\n",
    "    count = 0\n",
    "    # switch to evaluate mode\n",
    "    model.eval()\n",
    "    with torch.no_grad():\n",
    "        for i, (input, target) in enumerate(val_loader):\n",
    "            target = target.cuda()\n",
    "            input_var = input.cuda()\n",
    "            target_var = target.cuda()\n",
    "\n",
    "            # compute output\n",
    "            output = model(input_var)\n",
    "            loss = criterion(output, target_var)\n",
    "\n",
    "            output = output.float()\n",
    "            loss = loss.float()\n",
    "\n",
    "            # measure accuracy and record loss\n",
    "            prec1 += accuracy(output.data, target)[0] * target.size(0)\n",
    "            # print(accuracy(output.data, target)[0])\n",
    "            count += target.size(0)\n",
    "\n",
    "    print(f\" * Prec@1 {prec1/count:.3f}\")\n",
    "    return"
   ]
  },
  {
   "cell_type": "code",
   "execution_count": 8,
   "metadata": {},
   "outputs": [
    {
     "name": "stderr",
     "output_type": "stream",
     "text": [
      "WARNING:embedl.plumbing.torch.core.module_processing:Found nodes that do not have (<class 'embedl.plumbing.torch.pruning.node_configs.base.MaskChannelPruningConfig'>,) implemented: \n",
      "WARNING:embedl.plumbing.torch.core.module_processing:\n",
      "WARNING:embedl.plumbing.torch.core.module_processing:    0. input node (1 occurrence)\n",
      "WARNING:embedl.plumbing.torch.core.module_processing:    1. <class 'torch.nn.modules.activation.ReLU'> (49 occurrences)\n",
      "WARNING:embedl.plumbing.torch.core.module_processing:    2. <class 'torch.nn.modules.pooling.MaxPool2d'> (1 occurrence)\n",
      "WARNING:embedl.plumbing.torch.core.module_processing:    3. <built-in function add> (16 occurrences)\n",
      "WARNING:embedl.plumbing.torch.core.module_processing:    4. <class 'torch.nn.modules.pooling.AdaptiveAvgPool2d'> (1 occurrence)\n",
      "WARNING:embedl.plumbing.torch.core.module_processing:    5. <built-in method flatten of type object at 0x7f10ae7fd460> (1 occurrence)\n",
      "WARNING:embedl.plumbing.torch.core.module_processing:    6. output node (1 occurrence)\n",
      "WARNING:embedl.plumbing.torch.core.module_processing:\n",
      "WARNING:embedl.plumbing.torch.core.module_processing:This may limit certain functionality. Extend the dict returned by MaskChannelPruning.node_config_map() to extend support to these.\n"
     ]
    },
    {
     "name": "stdout",
     "output_type": "stream",
     "text": [
      "8242043856\n"
     ]
    },
    {
     "name": "stderr",
     "output_type": "stream",
     "text": []
    },
    {
     "name": "stdout",
     "output_type": "stream",
     "text": [
      "0.3998824410040849\n"
     ]
    }
   ],
   "source": [
    "state = torch.load(\n",
    "    \"/home/jonna/hyperparameter_sensitivity_pruning/experiments/imagenet/base_model/lr_10**-1.20_wd_10**-3.80/checkpoint.pth\"\n",
    ")\n",
    "model = resnet50()\n",
    "model.load_state_dict(state[\"model\"])\n",
    "model.cuda()\n",
    "\n",
    "input_shape = [1, 3, 224, 224]\n",
    "\n",
    "base_flops = measure_flops(model, input_shape=input_shape)\n",
    "print(base_flops)\n",
    "\n",
    "\n",
    "include_ops = [\n",
    "    \"layer1_0_conv2\",\n",
    "    \"layer1_1_conv2\",\n",
    "    \"layer1_2_conv2\",\n",
    "    \"layer2_0_conv2\",\n",
    "    \"layer2_1_conv2\",\n",
    "    \"layer2_2_conv2\",\n",
    "    \"layer2_3_conv2\",\n",
    "    \"layer3_0_conv2\",\n",
    "    \"layer3_1_conv2\",\n",
    "    \"layer3_2_conv2\",\n",
    "    \"layer3_3_conv2\",\n",
    "    \"layer3_4_conv2\",\n",
    "    \"layer3_5_conv2\",\n",
    "    \"layer4_0_conv2\",\n",
    "    \"layer4_1_conv2\",\n",
    "    \"layer4_2_conv2\",\n",
    "]\n",
    "\n",
    "scorer = ChannelPruningScorer(\n",
    "    importance_score=WeightMagnitude(), channel_pruning_balancer=None\n",
    ")\n",
    "\n",
    "tactic = ChannelPruningTactic(step_size=1, search_depth=1, speedup_pruning=False)\n",
    "pruning_method = PruningMethod(\n",
    "    scorer,\n",
    "    [tactic],\n",
    "    target=Target(Flops(), fraction=0.4),\n",
    "    include_ops=include_ops,\n",
    ")\n",
    "pruning_steps = pruning_method.prune(model, input_shape=input_shape)\n",
    "\n",
    "pruned_flops = measure_flops(model=model, input_shape=input_shape)\n",
    "print(pruned_flops / base_flops)  \n",
    "\n",
    "torch.save(model, \"pruned_models/resnet50_magnitude_40_inclops_LR1.2_WD3.8.th\")\n",
    "\n",
    "with open(\"pruned_models/pruningsteps_resnet50_magnitude_40_inclops_LR1.2_WD3.8.th\", \"wb\") as f:\n",
    "    pickle.dump(pruning_steps, f)\n",
    "\n",
    "\n",
    "# with open(\"pruned_models/pruningsteps_resnet50_magnitude_40_2_all.th\", \"wb\") as f:\n",
    "#    pickle.dump(pruning_steps, f)"
   ]
  },
  {
   "cell_type": "code",
   "execution_count": 9,
   "metadata": {},
   "outputs": [
    {
     "name": "stderr",
     "output_type": "stream",
     "text": [
      "WARNING:embedl.plumbing.torch.core.module_processing:Found nodes whose (<class 'embedl.plumbing.torch.viewer.viewer_configs.ViewerConfig'>,) uses the default <embedl.plumbing.torch.viewer.viewer_configs.DefaultViewerConfig object at 0x7f1011897af0>: \n",
      "WARNING:embedl.plumbing.torch.core.module_processing:\n",
      "WARNING:embedl.plumbing.torch.core.module_processing:\n",
      "WARNING:embedl.plumbing.torch.core.module_processing:This may limit certain functionality. Extend the dict returned by Viewing.node_config_map() to extend support to these.\n",
      "WARNING:embedl.plumbing.torch.core.module_processing:Found nodes whose (<class 'embedl.plumbing.torch.viewer.viewer_configs.ViewerConfig'>,) uses the default <embedl.plumbing.torch.viewer.viewer_configs.DefaultViewerConfig object at 0x7f1011897af0>: \n",
      "WARNING:embedl.plumbing.torch.core.module_processing:\n",
      "WARNING:embedl.plumbing.torch.core.module_processing:\n",
      "WARNING:embedl.plumbing.torch.core.module_processing:This may limit certain functionality. Extend the dict returned by Viewing.node_config_map() to extend support to these.\n"
     ]
    },
    {
     "name": "stdout",
     "output_type": "stream",
     "text": [
      "Args: {'model1': PosixPath('/tmp/tmp3xuig05p/comparison_network.json'), 'model2': PosixPath('/tmp/tmp3xuig05p/exported_network.json'), 'port': None, 'force': True}\n",
      "Creating symlink /tmp/embedl-viewer-m0meylnb/comparison_network.json -> /tmp/tmp3xuig05p/comparison_network.json\n",
      "Creating symlink /tmp/embedl-viewer-m0meylnb/exported_network.json -> /tmp/tmp3xuig05p/exported_network.json\n",
      "Opening embedl-viewer in browser\n",
      "Serving /tmp/embedl-viewer-m0meylnb at port 8000\n",
      "\n"
     ]
    },
    {
     "name": "stderr",
     "output_type": "stream",
     "text": [
      "127.0.0.1 - - [14/Jun/2023 16:20:20] \"GET /comparison_network.json HTTP/1.1\" 200 -\n",
      "127.0.0.1 - - [14/Jun/2023 16:20:20] \"GET /exported_network.json HTTP/1.1\" 200 -\n"
     ]
    }
   ],
   "source": [
    "view_model(model, compare_with=resnet50())"
   ]
  },
  {
   "cell_type": "code",
   "execution_count": 3,
   "metadata": {},
   "outputs": [
    {
     "name": "stdout",
     "output_type": "stream",
     "text": [
      "Validate before pruning\n"
     ]
    },
    {
     "name": "stderr",
     "output_type": "stream",
     "text": [
      "Found nodes that do not have (<class 'embedl.plumbing.torch.pruning.node_configs.base.MaskChannelPruningConfig'>,) implemented: \n",
      "\n",
      "    0. input node (1 occurrence)\n",
      "    1. <function relu6 at 0x7f1082138310> (36 occurrences)\n",
      "    2. <built-in function add> (10 occurrences)\n",
      "    3. <class 'torch.nn.modules.pooling.AdaptiveAvgPool2d'> (1 occurrence)\n",
      "    4. <built-in method flatten of type object at 0x7f10ae7fd460> (1 occurrence)\n",
      "    5. output node (1 occurrence)\n",
      "\n",
      "This may limit certain functionality. Extend the dict returned by MaskChannelPruning.node_config_map() to extend support to these.\n"
     ]
    },
    {
     "name": "stdout",
     "output_type": "stream",
     "text": [
      " * Prec@1 94.720\n"
     ]
    },
    {
     "name": "stderr",
     "output_type": "stream",
     "text": [
      "100%|██████████| [59:28<00:00, 7584.17s/it] (Flops)    "
     ]
    },
    {
     "name": "stdout",
     "output_type": "stream",
     "text": [
      "\n",
      "Validate after pruning\n",
      " * Prec@1 10.000\n",
      "0.39991562513343865\n"
     ]
    },
    {
     "data": {
      "image/png": "[encoded data removed]",
      "text/plain": [
       "<Figure size 640x480 with 4 Axes>"
      ]
     },
     "metadata": {},
     "output_type": "display_data"
    },
    {
     "name": "stderr",
     "output_type": "stream",
     "text": [
      "WARNING:embedl.plumbing.torch.core.module_processing:Found nodes whose (<class 'embedl.plumbing.torch.viewer.viewer_configs.ViewerConfig'>,) uses the default <embedl.plumbing.torch.viewer.viewer_configs.DefaultViewerConfig object at 0x7f1011897af0>: \n",
      "WARNING:embedl.plumbing.torch.core.module_processing:\n",
      "WARNING:embedl.plumbing.torch.core.module_processing:\n",
      "WARNING:embedl.plumbing.torch.core.module_processing:This may limit certain functionality. Extend the dict returned by Viewing.node_config_map() to extend support to these.\n",
      "WARNING:embedl.plumbing.torch.core.module_processing:Found nodes whose (<class 'embedl.plumbing.torch.viewer.viewer_configs.ViewerConfig'>,) uses the default <embedl.plumbing.torch.viewer.viewer_configs.DefaultViewerConfig object at 0x7f1011897af0>: \n",
      "WARNING:embedl.plumbing.torch.core.module_processing:\n",
      "WARNING:embedl.plumbing.torch.core.module_processing:\n",
      "WARNING:embedl.plumbing.torch.core.module_processing:This may limit certain functionality. Extend the dict returned by Viewing.node_config_map() to extend support to these.\n"
     ]
    },
    {
     "name": "stdout",
     "output_type": "stream",
     "text": [
      "Args: {'model1': PosixPath('/tmp/tmpe45t6sc9/comparison_network.json'), 'model2': PosixPath('/tmp/tmpe45t6sc9/exported_network.json'), 'port': None, 'force': True}\n",
      "Creating symlink /tmp/embedl-viewer-k6qe3vyg/comparison_network.json -> /tmp/tmpe45t6sc9/comparison_network.json\n",
      "Creating symlink /tmp/embedl-viewer-k6qe3vyg/exported_network.json -> /tmp/tmpe45t6sc9/exported_network.json\n",
      "Opening embedl-viewer in browser\n",
      "Serving /tmp/embedl-viewer-k6qe3vyg at port 8000\n",
      "\n"
     ]
    },
    {
     "name": "stderr",
     "output_type": "stream",
     "text": [
      "127.0.0.1 - - [14/Jun/2023 12:37:57] \"GET /comparison_network.json HTTP/1.1\" 200 -\n",
      "127.0.0.1 - - [14/Jun/2023 12:37:57] \"GET /exported_network.json HTTP/1.1\" 200 -\n"
     ]
    },
    {
     "ename": "KeyboardInterrupt",
     "evalue": "",
     "output_type": "error",
     "traceback": [
      "\u001b[0;31m---------------------------------------------------------------------------\u001b[0m",
      "\u001b[0;31mKeyboardInterrupt\u001b[0m                         Traceback (most recent call last)",
      "Cell \u001b[0;32mIn[3], line 32\u001b[0m\n\u001b[1;32m     28\u001b[0m \u001b[39mprint\u001b[39m(pruned_flops \u001b[39m/\u001b[39m base_flops)  \u001b[39m# 0.39991562513343865\u001b[39;00m\n\u001b[1;32m     30\u001b[0m plot_pruning_profile(model, pruning_steps)\n\u001b[0;32m---> 32\u001b[0m view_model(torch\u001b[39m.\u001b[39;49mload(\u001b[39m'\u001b[39;49m\u001b[39m/home/jonna/pytorch_resnet_cifar10/pruned_models/mobilenetv2_magnitude_40.th\u001b[39;49m\u001b[39m'\u001b[39;49m), compare_with\u001b[39m=\u001b[39;49mmodel)\n\u001b[1;32m     33\u001b[0m \u001b[39m# torch.save(model, \"pruned_models/mobilenetv2_magnitude_40.th\")\u001b[39;00m\n\u001b[1;32m     34\u001b[0m \u001b[39m# with open(\"pruned_models/pruningsteps_mobilenetv2_magnitude_40.th\", \"wb\") as f:\u001b[39;00m\n\u001b[1;32m     35\u001b[0m \u001b[39m#     psteps = pickle.load(f)\u001b[39;00m\n\u001b[1;32m     36\u001b[0m \u001b[39m# assert psteps == pruning_steps\u001b[39;00m\n\u001b[1;32m     37\u001b[0m \u001b[39m# with open(\"pruned_models/pruningsteps_mobilenetv2_magnitude_40.th\", \"wb\") as f:\u001b[39;00m\n\u001b[1;32m     38\u001b[0m \u001b[39m#     pickle.dump(pruning_steps, f)\u001b[39;00m\n",
      "File \u001b[0;32m~/venv_embedl/lib/python3.10/site-packages/embedl/torch/viewer/__init__.py:78\u001b[0m, in \u001b[0;36mview_model\u001b[0;34m(model, input_shape, hardware_lookup_config, compare_with, include_latency_tables)\u001b[0m\n\u001b[1;32m     19\u001b[0m \u001b[39mdef\u001b[39;00m \u001b[39mview_model\u001b[39m(\n\u001b[1;32m     20\u001b[0m     model: Union[nn\u001b[39m.\u001b[39mModule, Callable],\n\u001b[1;32m     21\u001b[0m     input_shape: Optional[InputOrShape] \u001b[39m=\u001b[39m \u001b[39mNone\u001b[39;00m,\n\u001b[0;32m   (...)\u001b[0m\n\u001b[1;32m     24\u001b[0m     include_latency_tables: \u001b[39mbool\u001b[39m \u001b[39m=\u001b[39m \u001b[39mTrue\u001b[39;00m,\n\u001b[1;32m     25\u001b[0m ):\n\u001b[1;32m     26\u001b[0m \u001b[39m    \u001b[39m\u001b[39m\"\"\"\u001b[39;00m\n\u001b[1;32m     27\u001b[0m \u001b[39m    Visualize a model in the embedl-viewer.\u001b[39;00m\n\u001b[1;32m     28\u001b[0m \n\u001b[0;32m   (...)\u001b[0m\n\u001b[1;32m     75\u001b[0m \u001b[39m        is provided.\u001b[39;00m\n\u001b[1;32m     76\u001b[0m \u001b[39m    \"\"\"\u001b[39;00m\n\u001b[0;32m---> 78\u001b[0m     Viewing\u001b[39m.\u001b[39;49mview(\n\u001b[1;32m     79\u001b[0m         model,\n\u001b[1;32m     80\u001b[0m         input_shape\u001b[39m=\u001b[39;49minput_shape,\n\u001b[1;32m     81\u001b[0m         latency\u001b[39m=\u001b[39;49mLUTLatency\u001b[39m.\u001b[39;49mfrom_hardware_lookup_config(hardware_lookup_config)\n\u001b[1;32m     82\u001b[0m         \u001b[39mif\u001b[39;49;00m hardware_lookup_config\n\u001b[1;32m     83\u001b[0m         \u001b[39melse\u001b[39;49;00m \u001b[39mNone\u001b[39;49;00m,\n\u001b[1;32m     84\u001b[0m         compare_with\u001b[39m=\u001b[39;49mcompare_with,\n\u001b[1;32m     85\u001b[0m         include_latency_tables\u001b[39m=\u001b[39;49minclude_latency_tables,\n\u001b[1;32m     86\u001b[0m     )\n",
      "File \u001b[0;32m~/venv_embedl/lib/python3.10/site-packages/embedl/plumbing/torch/viewer/viewing.py:283\u001b[0m, in \u001b[0;36mViewing.view\u001b[0;34m(cls, module, input_shape, latency, compare_with, include_latency_tables)\u001b[0m\n\u001b[1;32m    281\u001b[0m \u001b[39melse\u001b[39;00m:\n\u001b[1;32m    282\u001b[0m     comparison_dict \u001b[39m=\u001b[39m \u001b[39mNone\u001b[39;00m\n\u001b[0;32m--> 283\u001b[0m open_in_embedl_viewer(embedl_viewer_dict, comparison_dict)\n",
      "File \u001b[0;32m~/venv_embedl/lib/python3.10/site-packages/embedl/plumbing/torch/viewer/export.py:106\u001b[0m, in \u001b[0;36mopen_in_embedl_viewer\u001b[0;34m(embedl_viewer_graph, comparison_data)\u001b[0m\n\u001b[1;32m    104\u001b[0m     comparison_path \u001b[39m=\u001b[39m Path(tempdir) \u001b[39m/\u001b[39m \u001b[39m'\u001b[39m\u001b[39mcomparison_network.json\u001b[39m\u001b[39m'\u001b[39m\n\u001b[1;32m    105\u001b[0m     _write_json_file(comparison_data, comparison_path)\n\u001b[0;32m--> 106\u001b[0m     subprocess\u001b[39m.\u001b[39;49mrun(\n\u001b[1;32m    107\u001b[0m         (\n\u001b[1;32m    108\u001b[0m             \u001b[39m'\u001b[39;49m\u001b[39membedl-viewer\u001b[39;49m\u001b[39m'\u001b[39;49m,\n\u001b[1;32m    109\u001b[0m             \u001b[39mstr\u001b[39;49m(comparison_path),\n\u001b[1;32m    110\u001b[0m             \u001b[39mstr\u001b[39;49m(json_path),\n\u001b[1;32m    111\u001b[0m             \u001b[39m'\u001b[39;49m\u001b[39m--force\u001b[39;49m\u001b[39m'\u001b[39;49m,\n\u001b[1;32m    112\u001b[0m         ),\n\u001b[1;32m    113\u001b[0m         check\u001b[39m=\u001b[39;49m\u001b[39mTrue\u001b[39;49;00m,\n\u001b[1;32m    114\u001b[0m     )\n\u001b[1;32m    115\u001b[0m \u001b[39melse\u001b[39;00m:\n\u001b[1;32m    116\u001b[0m     subprocess\u001b[39m.\u001b[39mrun((\u001b[39m'\u001b[39m\u001b[39membedl-viewer\u001b[39m\u001b[39m'\u001b[39m, \u001b[39mstr\u001b[39m(json_path)), check\u001b[39m=\u001b[39m\u001b[39mTrue\u001b[39;00m)\n",
      "File \u001b[0;32m/usr/lib/python3.10/subprocess.py:503\u001b[0m, in \u001b[0;36mrun\u001b[0;34m(input, capture_output, timeout, check, *popenargs, **kwargs)\u001b[0m\n\u001b[1;32m    501\u001b[0m \u001b[39mwith\u001b[39;00m Popen(\u001b[39m*\u001b[39mpopenargs, \u001b[39m*\u001b[39m\u001b[39m*\u001b[39mkwargs) \u001b[39mas\u001b[39;00m process:\n\u001b[1;32m    502\u001b[0m     \u001b[39mtry\u001b[39;00m:\n\u001b[0;32m--> 503\u001b[0m         stdout, stderr \u001b[39m=\u001b[39m process\u001b[39m.\u001b[39;49mcommunicate(\u001b[39minput\u001b[39;49m, timeout\u001b[39m=\u001b[39;49mtimeout)\n\u001b[1;32m    504\u001b[0m     \u001b[39mexcept\u001b[39;00m TimeoutExpired \u001b[39mas\u001b[39;00m exc:\n\u001b[1;32m    505\u001b[0m         process\u001b[39m.\u001b[39mkill()\n",
      "File \u001b[0;32m/usr/lib/python3.10/subprocess.py:1144\u001b[0m, in \u001b[0;36mPopen.communicate\u001b[0;34m(self, input, timeout)\u001b[0m\n\u001b[1;32m   1142\u001b[0m         stderr \u001b[39m=\u001b[39m \u001b[39mself\u001b[39m\u001b[39m.\u001b[39mstderr\u001b[39m.\u001b[39mread()\n\u001b[1;32m   1143\u001b[0m         \u001b[39mself\u001b[39m\u001b[39m.\u001b[39mstderr\u001b[39m.\u001b[39mclose()\n\u001b[0;32m-> 1144\u001b[0m     \u001b[39mself\u001b[39;49m\u001b[39m.\u001b[39;49mwait()\n\u001b[1;32m   1145\u001b[0m \u001b[39melse\u001b[39;00m:\n\u001b[1;32m   1146\u001b[0m     \u001b[39mif\u001b[39;00m timeout \u001b[39mis\u001b[39;00m \u001b[39mnot\u001b[39;00m \u001b[39mNone\u001b[39;00m:\n",
      "File \u001b[0;32m/usr/lib/python3.10/subprocess.py:1207\u001b[0m, in \u001b[0;36mPopen.wait\u001b[0;34m(self, timeout)\u001b[0m\n\u001b[1;32m   1205\u001b[0m     endtime \u001b[39m=\u001b[39m _time() \u001b[39m+\u001b[39m timeout\n\u001b[1;32m   1206\u001b[0m \u001b[39mtry\u001b[39;00m:\n\u001b[0;32m-> 1207\u001b[0m     \u001b[39mreturn\u001b[39;00m \u001b[39mself\u001b[39;49m\u001b[39m.\u001b[39;49m_wait(timeout\u001b[39m=\u001b[39;49mtimeout)\n\u001b[1;32m   1208\u001b[0m \u001b[39mexcept\u001b[39;00m \u001b[39mKeyboardInterrupt\u001b[39;00m:\n\u001b[1;32m   1209\u001b[0m     \u001b[39m# https://bugs.python.org/issue25942\u001b[39;00m\n\u001b[1;32m   1210\u001b[0m     \u001b[39m# The first keyboard interrupt waits briefly for the child to\u001b[39;00m\n\u001b[1;32m   1211\u001b[0m     \u001b[39m# exit under the common assumption that it also received the ^C\u001b[39;00m\n\u001b[1;32m   1212\u001b[0m     \u001b[39m# generated SIGINT and will exit rapidly.\u001b[39;00m\n\u001b[1;32m   1213\u001b[0m     \u001b[39mif\u001b[39;00m timeout \u001b[39mis\u001b[39;00m \u001b[39mnot\u001b[39;00m \u001b[39mNone\u001b[39;00m:\n",
      "File \u001b[0;32m/usr/lib/python3.10/subprocess.py:1941\u001b[0m, in \u001b[0;36mPopen._wait\u001b[0;34m(self, timeout)\u001b[0m\n\u001b[1;32m   1939\u001b[0m \u001b[39mif\u001b[39;00m \u001b[39mself\u001b[39m\u001b[39m.\u001b[39mreturncode \u001b[39mis\u001b[39;00m \u001b[39mnot\u001b[39;00m \u001b[39mNone\u001b[39;00m:\n\u001b[1;32m   1940\u001b[0m     \u001b[39mbreak\u001b[39;00m  \u001b[39m# Another thread waited.\u001b[39;00m\n\u001b[0;32m-> 1941\u001b[0m (pid, sts) \u001b[39m=\u001b[39m \u001b[39mself\u001b[39;49m\u001b[39m.\u001b[39;49m_try_wait(\u001b[39m0\u001b[39;49m)\n\u001b[1;32m   1942\u001b[0m \u001b[39m# Check the pid and loop as waitpid has been known to\u001b[39;00m\n\u001b[1;32m   1943\u001b[0m \u001b[39m# return 0 even without WNOHANG in odd situations.\u001b[39;00m\n\u001b[1;32m   1944\u001b[0m \u001b[39m# http://bugs.python.org/issue14396.\u001b[39;00m\n\u001b[1;32m   1945\u001b[0m \u001b[39mif\u001b[39;00m pid \u001b[39m==\u001b[39m \u001b[39mself\u001b[39m\u001b[39m.\u001b[39mpid:\n",
      "File \u001b[0;32m/usr/lib/python3.10/subprocess.py:1899\u001b[0m, in \u001b[0;36mPopen._try_wait\u001b[0;34m(self, wait_flags)\u001b[0m\n\u001b[1;32m   1897\u001b[0m \u001b[39m\u001b[39m\u001b[39m\"\"\"All callers to this function MUST hold self._waitpid_lock.\"\"\"\u001b[39;00m\n\u001b[1;32m   1898\u001b[0m \u001b[39mtry\u001b[39;00m:\n\u001b[0;32m-> 1899\u001b[0m     (pid, sts) \u001b[39m=\u001b[39m os\u001b[39m.\u001b[39;49mwaitpid(\u001b[39mself\u001b[39;49m\u001b[39m.\u001b[39;49mpid, wait_flags)\n\u001b[1;32m   1900\u001b[0m \u001b[39mexcept\u001b[39;00m \u001b[39mChildProcessError\u001b[39;00m:\n\u001b[1;32m   1901\u001b[0m     \u001b[39m# This happens if SIGCLD is set to be ignored or waiting\u001b[39;00m\n\u001b[1;32m   1902\u001b[0m     \u001b[39m# for child processes has otherwise been disabled for our\u001b[39;00m\n\u001b[1;32m   1903\u001b[0m     \u001b[39m# process.  This child is dead, we can't get the status.\u001b[39;00m\n\u001b[1;32m   1904\u001b[0m     pid \u001b[39m=\u001b[39m \u001b[39mself\u001b[39m\u001b[39m.\u001b[39mpid\n",
      "\u001b[0;31mKeyboardInterrupt\u001b[0m: "
     ]
    }
   ],
   "source": [
    "state_dict = torch.load(\n",
    "\"/home/jonna/hyperparameter_sensitivity_pruning/experiments/cifar10/mobilenetv2/base_model/results_0/lr_10**-1.00_wd_10**-4.00/checkpoint_final.th\"\n",
    ")[\"state_dict\"]\n",
    "state_dict = {key[7:]: weights for key, weights in state_dict.items()}\n",
    "model = mobilenetv2()\n",
    "model.load_state_dict(state_dict)\n",
    "model.cuda()\n",
    "\n",
    "print(\"Validate before pruning\")\n",
    "validate(val_loader, torch.nn.DataParallel(model), nn.CrossEntropyLoss().cuda())\n",
    "\n",
    "input_shape = [1, 3, 32, 32]\n",
    "base_flops = measure_flops(model=model, input_shape=input_shape)\n",
    "\n",
    "\n",
    "scorer = ChannelPruningScorer(\n",
    "importance_score=WeightMagnitude(), channel_pruning_balancer=None\n",
    ")\n",
    "tactic = ChannelPruningTactic(step_size=1, search_depth=1, speedup_pruning=False)\n",
    "\n",
    "pruning_method = PruningMethod(scorer, [tactic], target=Target(Flops(), fraction=0.4))\n",
    "pruning_steps = pruning_method.prune(model, input_shape=input_shape)\n",
    "\n",
    "print(\"\\nValidate after pruning\")\n",
    "validate(val_loader, torch.nn.DataParallel(model), nn.CrossEntropyLoss().cuda())\n",
    "\n",
    "pruned_flops = measure_flops(model=model, input_shape=input_shape)\n",
    "print(pruned_flops / base_flops)  # 0.39991562513343865\n",
    "\n",
    "plot_pruning_profile(model, pruning_steps)\n",
    "\n",
    "view_model(torch.load('/home/jonna/pytorch_resnet_cifar10/pruned_models/mobilenetv2_magnitude_40.th'), compare_with=model)\n",
    "# torch.save(model, \"pruned_models/mobilenetv2_magnitude_40.th\")\n",
    "# with open(\"pruned_models/pruningsteps_mobilenetv2_magnitude_40.th\", \"wb\") as f:\n",
    "#     psteps = pickle.load(f)\n",
    "# assert psteps == pruning_steps\n",
    "# with open(\"pruned_models/pruningsteps_mobilenetv2_magnitude_40.th\", \"wb\") as f:\n",
    "#     pickle.dump(pruning_steps, f)"
   ]
  },
  {
   "cell_type": "code",
   "execution_count": null,
   "metadata": {},
   "outputs": [],
   "source": []
  }
 ],
 "metadata": {
  "kernelspec": {
   "display_name": "venv_embedl",
   "language": "python",
   "name": "python3"
  },
  "language_info": {
   "codemirror_mode": {
    "name": "ipython",
    "version": 3
   },
   "file_extension": ".py",
   "mimetype": "text/x-python",
   "name": "python",
   "nbconvert_exporter": "python",
   "pygments_lexer": "ipython3",
   "version": "3.10.6"
  },
  "orig_nbformat": 4
 },
 "nbformat": 4,
 "nbformat_minor": 2
}
